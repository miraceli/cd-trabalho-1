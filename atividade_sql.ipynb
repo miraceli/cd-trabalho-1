{
 "cells": [
  {
   "cell_type": "code",
   "execution_count": 1,
   "metadata": {},
   "outputs": [],
   "source": [
    "# isso aqui deixará o notebook mais limpo\n",
    "import warnings\n",
    "\n",
    "warnings.filterwarnings(\"ignore\")"
   ]
  },
  {
   "cell_type": "code",
   "execution_count": 17,
   "metadata": {},
   "outputs": [
    {
     "name": "stdout",
     "output_type": "stream",
     "text": [
      "   SimulationDays  Hour  Minute     Value\n",
      "0               1     0       1  2.003333\n",
      "1               1     0       1  1.800000\n"
     ]
    }
   ],
   "source": [
    "import pandas as pd\n",
    "import sqlite3\n",
    "\n",
    "conn   = sqlite3.connect('./dados/eplusout.sql')\n",
    "\n",
    "df = pd.read_sql(\"\"\"\n",
    "SELECT t.SimulationDays, t.Hour, t.Minute, rd.Value\n",
    "FROM ReportData rd\n",
    "    LEFT JOIN Time t ON (rd.TimeIndex == t.TimeIndex)\n",
    "WHERE t.WarmupFlag == 0\n",
    "\"\"\", conn)\n",
    "\n",
    "print(df.head(2))"
   ]
  }
 ],
 "metadata": {
  "kernelspec": {
   "display_name": "Python 3",
   "language": "python",
   "name": "python3"
  },
  "language_info": {
   "codemirror_mode": {
    "name": "ipython",
    "version": 3
   },
   "file_extension": ".py",
   "mimetype": "text/x-python",
   "name": "python",
   "nbconvert_exporter": "python",
   "pygments_lexer": "ipython3",
   "version": "3.10.12"
  }
 },
 "nbformat": 4,
 "nbformat_minor": 2
}
