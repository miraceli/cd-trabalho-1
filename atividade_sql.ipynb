{
 "cells": [
  {
   "cell_type": "code",
   "execution_count": 1,
   "metadata": {},
   "outputs": [],
   "source": [
    "# isso aqui deixará o notebook mais limpo\n",
    "import warnings\n",
    "\n",
    "warnings.filterwarnings(\"ignore\")"
   ]
  },
  {
   "cell_type": "code",
   "execution_count": 4,
   "metadata": {},
   "outputs": [
    {
     "name": "stdout",
     "output_type": "stream",
     "text": [
      "   ReportDataIndex  TimeIndex  ReportDataDictionaryIndex     Value  TimeIndex  \\\n",
      "0           120961       8785                          6  2.003333       8785   \n",
      "1           120962       8785                          7  1.800000       8785   \n",
      "\n",
      "   Month  Day  Hour  Minute  Dst  Interval  IntervalType  SimulationDays  \\\n",
      "0      1    1     0       1    0         1            -1               1   \n",
      "1      1    1     0       1    0         1            -1               1   \n",
      "\n",
      "  DayType  EnvironmentPeriodIndex  WarmupFlag  \n",
      "0  Sunday                       8           0  \n",
      "1  Sunday                       8           0  \n"
     ]
    }
   ],
   "source": [
    "import pandas as pd\n",
    "import sqlite3\n",
    "\n",
    "conn   = sqlite3.connect('./dados/eplusout.sql')\n",
    "\n",
    "# df = pd.read_sql(\"\"\"\n",
    "# SELECT t.SimulationDays, t.Hour, t.Minute, rd.Value\n",
    "# FROM ReportData rd\n",
    "#     LEFT JOIN Time t ON (rd.TimeIndex == t.TimeIndex)\n",
    "# WHERE t.WarmupFlag == 0\n",
    "# \"\"\", conn)\n",
    "\n",
    "df = pd.read_sql(\"\"\"\n",
    "SELECT *\n",
    "FROM ReportData rd\n",
    "    LEFT JOIN Time t ON (rd.TimeIndex == t.TimeIndex)\n",
    "WHERE t.WarmupFlag == 0\n",
    "\"\"\", conn)\n",
    "\n",
    "print(df.head(2))"
   ]
  }
 ],
 "metadata": {
  "kernelspec": {
   "display_name": "Python 3",
   "language": "python",
   "name": "python3"
  },
  "language_info": {
   "codemirror_mode": {
    "name": "ipython",
    "version": 3
   },
   "file_extension": ".py",
   "mimetype": "text/x-python",
   "name": "python",
   "nbconvert_exporter": "python",
   "pygments_lexer": "ipython3",
   "version": "3.10.12"
  }
 },
 "nbformat": 4,
 "nbformat_minor": 2
}
